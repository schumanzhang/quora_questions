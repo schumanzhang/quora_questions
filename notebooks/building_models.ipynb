{
 "cells": [
  {
   "cell_type": "markdown",
   "metadata": {},
   "source": [
    "## Building a few machine learning models\n",
    "\n",
    "We will use the extracted features from the othernote book to build a few machine learning models and evaluate their performance."
   ]
  },
  {
   "cell_type": "code",
   "execution_count": 2,
   "metadata": {},
   "outputs": [],
   "source": [
    "import pickle\n",
    "import numpy as np\n",
    "import pandas as pd\n",
    "from IPython.display import display"
   ]
  },
  {
   "cell_type": "code",
   "execution_count": 3,
   "metadata": {},
   "outputs": [],
   "source": [
    "with open('pickles/extracted_features', 'rb') as f:\n",
    "    extracted_features = pickle.load(f)"
   ]
  },
  {
   "cell_type": "code",
   "execution_count": 27,
   "metadata": {},
   "outputs": [
    {
     "data": {
      "text/html": [
       "<div>\n",
       "<style>\n",
       "    .dataframe thead tr:only-child th {\n",
       "        text-align: right;\n",
       "    }\n",
       "\n",
       "    .dataframe thead th {\n",
       "        text-align: left;\n",
       "    }\n",
       "\n",
       "    .dataframe tbody tr th {\n",
       "        vertical-align: top;\n",
       "    }\n",
       "</style>\n",
       "<table border=\"1\" class=\"dataframe\">\n",
       "  <thead>\n",
       "    <tr style=\"text-align: right;\">\n",
       "      <th></th>\n",
       "      <th>char_length</th>\n",
       "      <th>label</th>\n",
       "      <th>tf-idf_wordshare</th>\n",
       "      <th>word_length</th>\n",
       "      <th>wordshare</th>\n",
       "    </tr>\n",
       "  </thead>\n",
       "  <tbody>\n",
       "    <tr>\n",
       "      <th>0</th>\n",
       "      <td>9</td>\n",
       "      <td>0</td>\n",
       "      <td>0.946807</td>\n",
       "      <td>2</td>\n",
       "      <td>7.466667</td>\n",
       "    </tr>\n",
       "    <tr>\n",
       "      <th>1</th>\n",
       "      <td>37</td>\n",
       "      <td>0</td>\n",
       "      <td>0.475718</td>\n",
       "      <td>5</td>\n",
       "      <td>6.285714</td>\n",
       "    </tr>\n",
       "    <tr>\n",
       "      <th>2</th>\n",
       "      <td>14</td>\n",
       "      <td>0</td>\n",
       "      <td>0.322098</td>\n",
       "      <td>4</td>\n",
       "      <td>3.187500</td>\n",
       "    </tr>\n",
       "    <tr>\n",
       "      <th>3</th>\n",
       "      <td>15</td>\n",
       "      <td>0</td>\n",
       "      <td>0.000000</td>\n",
       "      <td>6</td>\n",
       "      <td>1.050000</td>\n",
       "    </tr>\n",
       "    <tr>\n",
       "      <th>4</th>\n",
       "      <td>37</td>\n",
       "      <td>0</td>\n",
       "      <td>0.233401</td>\n",
       "      <td>8</td>\n",
       "      <td>4.200000</td>\n",
       "    </tr>\n",
       "  </tbody>\n",
       "</table>\n",
       "</div>"
      ],
      "text/plain": [
       "   char_length  label  tf-idf_wordshare  word_length  wordshare\n",
       "0            9      0          0.946807            2   7.466667\n",
       "1           37      0          0.475718            5   6.285714\n",
       "2           14      0          0.322098            4   3.187500\n",
       "3           15      0          0.000000            6   1.050000\n",
       "4           37      0          0.233401            8   4.200000"
      ]
     },
     "metadata": {},
     "output_type": "display_data"
    },
    {
     "data": {
      "text/plain": [
       "0         False\n",
       "1         False\n",
       "2         False\n",
       "3         False\n",
       "4         False\n",
       "5         False\n",
       "6         False\n",
       "7         False\n",
       "8         False\n",
       "9         False\n",
       "10        False\n",
       "11        False\n",
       "12        False\n",
       "13        False\n",
       "14        False\n",
       "15        False\n",
       "16        False\n",
       "17        False\n",
       "18        False\n",
       "19        False\n",
       "20        False\n",
       "21        False\n",
       "22        False\n",
       "23        False\n",
       "24        False\n",
       "25        False\n",
       "26        False\n",
       "27        False\n",
       "28        False\n",
       "29        False\n",
       "          ...  \n",
       "404260    False\n",
       "404261    False\n",
       "404262    False\n",
       "404263    False\n",
       "404264    False\n",
       "404265    False\n",
       "404266    False\n",
       "404267    False\n",
       "404268    False\n",
       "404269    False\n",
       "404270    False\n",
       "404271    False\n",
       "404272    False\n",
       "404273    False\n",
       "404274    False\n",
       "404275    False\n",
       "404276    False\n",
       "404277    False\n",
       "404278    False\n",
       "404279    False\n",
       "404280    False\n",
       "404281    False\n",
       "404282    False\n",
       "404283    False\n",
       "404284    False\n",
       "404285    False\n",
       "404286    False\n",
       "404287    False\n",
       "404288    False\n",
       "404289    False\n",
       "Length: 404290, dtype: bool"
      ]
     },
     "execution_count": 27,
     "metadata": {},
     "output_type": "execute_result"
    }
   ],
   "source": [
    "display(extracted_features.head())\n",
    "\n",
    "extracted_features.fillna(0, inplace=True)\n",
    "\n",
    "extracted_features.isnull().any(axis=1)"
   ]
  },
  {
   "cell_type": "code",
   "execution_count": 28,
   "metadata": {},
   "outputs": [
    {
     "name": "stdout",
     "output_type": "stream",
     "text": [
      "[0 0 0 0 0]\n"
     ]
    }
   ],
   "source": [
    "from sklearn.model_selection import train_test_split\n",
    "\n",
    "full_labels = np.array(extracted_features['label'].values)\n",
    "\n",
    "print(full_labels[:5])"
   ]
  },
  {
   "cell_type": "code",
   "execution_count": 29,
   "metadata": {},
   "outputs": [
    {
     "name": "stdout",
     "output_type": "stream",
     "text": [
      "[[  9.           0.94680699   2.           7.46666667]\n",
      " [ 37.           0.4757185    5.           6.28571429]\n",
      " [ 14.           0.32209849   4.           3.1875    ]\n",
      " [ 15.           0.           6.           1.05      ]\n",
      " [ 37.           0.23340095   8.           4.2       ]\n",
      " [  4.           0.57153494   1.           5.2       ]\n",
      " [ 43.           0.           7.           1.07142857]\n",
      " [ 11.           0.69316964   2.           3.3       ]\n",
      " [  6.           1.           4.           4.30769231]\n",
      " [ 11.           0.58657528   3.           5.25      ]\n",
      " [ 59.           0.          10.           1.05882353]\n",
      " [  5.           0.62918465   1.           4.30769231]\n",
      " [  3.           1.           1.           4.33333333]\n",
      " [  5.           0.90029772   1.           5.45454545]\n",
      " [  1.           0.90504189   0.          12.42857143]\n",
      " [  2.           0.33907381   2.           4.18181818]\n",
      " [  1.           0.62074718   0.           3.375     ]\n",
      " [ 17.           0.           4.           1.07692308]\n",
      " [  9.           0.49079873   1.           6.31578947]\n",
      " [  6.           0.49554963   0.           5.35714286]]\n"
     ]
    }
   ],
   "source": [
    "full_features = extracted_features[['char_length', 'tf-idf_wordshare', 'word_length', 'wordshare']].values\n",
    "\n",
    "print(full_features[:20])"
   ]
  },
  {
   "cell_type": "code",
   "execution_count": 30,
   "metadata": {},
   "outputs": [
    {
     "name": "stdout",
     "output_type": "stream",
     "text": [
      "[0 0 0 1 1 1 0 0 1 1]\n",
      "(323432, 4)\n"
     ]
    }
   ],
   "source": [
    "X_train, X_test, y_train, y_test = train_test_split(full_features, full_labels, test_size=0.2, random_state=42)\n",
    "\n",
    "print(y_test[:10])\n",
    "print(X_train.shape)"
   ]
  },
  {
   "cell_type": "markdown",
   "metadata": {},
   "source": [
    "### Logistic Regression"
   ]
  },
  {
   "cell_type": "code",
   "execution_count": 31,
   "metadata": {},
   "outputs": [
    {
     "data": {
      "text/plain": [
       "LogisticRegression(C=100000.0, class_weight=None, dual=False,\n",
       "          fit_intercept=True, intercept_scaling=1, max_iter=100,\n",
       "          multi_class='ovr', n_jobs=1, penalty='l2', random_state=None,\n",
       "          solver='liblinear', tol=0.0001, verbose=0, warm_start=False)"
      ]
     },
     "execution_count": 31,
     "metadata": {},
     "output_type": "execute_result"
    }
   ],
   "source": [
    "from sklearn.linear_model import LogisticRegression\n",
    "\n",
    "# C is known as the regularization strength\n",
    "logistic = LogisticRegression(C=1e5)\n",
    "logistic.fit(X_train, y_train)"
   ]
  },
  {
   "cell_type": "code",
   "execution_count": 32,
   "metadata": {},
   "outputs": [
    {
     "name": "stdout",
     "output_type": "stream",
     "text": [
      "[1 0 0 1 0 1 1 0]\n"
     ]
    }
   ],
   "source": [
    "predictions = logistic.predict(X_test)\n",
    "\n",
    "print(predictions[:8])"
   ]
  },
  {
   "cell_type": "code",
   "execution_count": 34,
   "metadata": {},
   "outputs": [
    {
     "name": "stdout",
     "output_type": "stream",
     "text": [
      "Recall score: [ 0.78292621  0.42984528]\n",
      "Precision score: [ 0.69889828  0.53948303]\n",
      "F-beta score: 0.641862997896\n"
     ]
    }
   ],
   "source": [
    "### Evaluate accruacy \n",
    "from sklearn.metrics import f1_score\n",
    "from sklearn.metrics import precision_score\n",
    "from sklearn.metrics import recall_score\n",
    "from sklearn.metrics import fbeta_score\n",
    "\n",
    "model_recall_score = recall_score(y_test, predictions, average=None)\n",
    "model_precision_score = precision_score(y_test, predictions, average=None)\n",
    "model_fbeta_score = fbeta_score(y_test, predictions, average='weighted', beta=1)\n",
    "\n",
    "print('Recall score:', model_recall_score)\n",
    "print('Precision score:', model_precision_score)\n",
    "print('F-beta score:', model_fbeta_score)"
   ]
  },
  {
   "cell_type": "markdown",
   "metadata": {},
   "source": [
    "### Support Vector Machine"
   ]
  },
  {
   "cell_type": "code",
   "execution_count": null,
   "metadata": {},
   "outputs": [],
   "source": []
  }
 ],
 "metadata": {
  "kernelspec": {
   "display_name": "Python 3",
   "language": "python",
   "name": "python3"
  },
  "language_info": {
   "codemirror_mode": {
    "name": "ipython",
    "version": 3
   },
   "file_extension": ".py",
   "mimetype": "text/x-python",
   "name": "python",
   "nbconvert_exporter": "python",
   "pygments_lexer": "ipython3",
   "version": "3.6.5"
  }
 },
 "nbformat": 4,
 "nbformat_minor": 2
}
